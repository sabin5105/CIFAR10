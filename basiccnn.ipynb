{
  "nbformat": 4,
  "nbformat_minor": 0,
  "metadata": {
    "colab": {
      "provenance": [],
      "authorship_tag": "ABX9TyNaGzr9zRSaqoOdyXOug2Rd",
      "include_colab_link": true
    },
    "kernelspec": {
      "name": "python3",
      "display_name": "Python 3"
    },
    "language_info": {
      "name": "python"
    },
    "widgets": {
      "application/vnd.jupyter.widget-state+json": {
        "77839e1b41ca4391a58caed8e00cf6e3": {
          "model_module": "@jupyter-widgets/controls",
          "model_name": "HBoxModel",
          "model_module_version": "1.5.0",
          "state": {
            "_dom_classes": [],
            "_model_module": "@jupyter-widgets/controls",
            "_model_module_version": "1.5.0",
            "_model_name": "HBoxModel",
            "_view_count": null,
            "_view_module": "@jupyter-widgets/controls",
            "_view_module_version": "1.5.0",
            "_view_name": "HBoxView",
            "box_style": "",
            "children": [
              "IPY_MODEL_049683fdb296477183a55eb5e633763b",
              "IPY_MODEL_3755965f0900433ea08a8cb3b1cb13f4",
              "IPY_MODEL_03a21f50f97e4c2d9825d75186fd27ee"
            ],
            "layout": "IPY_MODEL_6209d0af9f3141d5bb8910714e27dd89"
          }
        },
        "049683fdb296477183a55eb5e633763b": {
          "model_module": "@jupyter-widgets/controls",
          "model_name": "HTMLModel",
          "model_module_version": "1.5.0",
          "state": {
            "_dom_classes": [],
            "_model_module": "@jupyter-widgets/controls",
            "_model_module_version": "1.5.0",
            "_model_name": "HTMLModel",
            "_view_count": null,
            "_view_module": "@jupyter-widgets/controls",
            "_view_module_version": "1.5.0",
            "_view_name": "HTMLView",
            "description": "",
            "description_tooltip": null,
            "layout": "IPY_MODEL_cad4099fff4f4666a73e210a6cc7f880",
            "placeholder": "​",
            "style": "IPY_MODEL_e4d30ac170c945a594845b468fe2f09f",
            "value": "100%"
          }
        },
        "3755965f0900433ea08a8cb3b1cb13f4": {
          "model_module": "@jupyter-widgets/controls",
          "model_name": "FloatProgressModel",
          "model_module_version": "1.5.0",
          "state": {
            "_dom_classes": [],
            "_model_module": "@jupyter-widgets/controls",
            "_model_module_version": "1.5.0",
            "_model_name": "FloatProgressModel",
            "_view_count": null,
            "_view_module": "@jupyter-widgets/controls",
            "_view_module_version": "1.5.0",
            "_view_name": "ProgressView",
            "bar_style": "success",
            "description": "",
            "description_tooltip": null,
            "layout": "IPY_MODEL_2d52be6e075c4407abe55cda655365f0",
            "max": 170498071,
            "min": 0,
            "orientation": "horizontal",
            "style": "IPY_MODEL_5cc2476091d541a8b824f5e02b6f3d90",
            "value": 170498071
          }
        },
        "03a21f50f97e4c2d9825d75186fd27ee": {
          "model_module": "@jupyter-widgets/controls",
          "model_name": "HTMLModel",
          "model_module_version": "1.5.0",
          "state": {
            "_dom_classes": [],
            "_model_module": "@jupyter-widgets/controls",
            "_model_module_version": "1.5.0",
            "_model_name": "HTMLModel",
            "_view_count": null,
            "_view_module": "@jupyter-widgets/controls",
            "_view_module_version": "1.5.0",
            "_view_name": "HTMLView",
            "description": "",
            "description_tooltip": null,
            "layout": "IPY_MODEL_c549c82590164329942337fef1e20618",
            "placeholder": "​",
            "style": "IPY_MODEL_7ffcef0560c2434bab0c29ad2caa2c3d",
            "value": " 170498071/170498071 [00:01&lt;00:00, 97652055.84it/s]"
          }
        },
        "6209d0af9f3141d5bb8910714e27dd89": {
          "model_module": "@jupyter-widgets/base",
          "model_name": "LayoutModel",
          "model_module_version": "1.2.0",
          "state": {
            "_model_module": "@jupyter-widgets/base",
            "_model_module_version": "1.2.0",
            "_model_name": "LayoutModel",
            "_view_count": null,
            "_view_module": "@jupyter-widgets/base",
            "_view_module_version": "1.2.0",
            "_view_name": "LayoutView",
            "align_content": null,
            "align_items": null,
            "align_self": null,
            "border": null,
            "bottom": null,
            "display": null,
            "flex": null,
            "flex_flow": null,
            "grid_area": null,
            "grid_auto_columns": null,
            "grid_auto_flow": null,
            "grid_auto_rows": null,
            "grid_column": null,
            "grid_gap": null,
            "grid_row": null,
            "grid_template_areas": null,
            "grid_template_columns": null,
            "grid_template_rows": null,
            "height": null,
            "justify_content": null,
            "justify_items": null,
            "left": null,
            "margin": null,
            "max_height": null,
            "max_width": null,
            "min_height": null,
            "min_width": null,
            "object_fit": null,
            "object_position": null,
            "order": null,
            "overflow": null,
            "overflow_x": null,
            "overflow_y": null,
            "padding": null,
            "right": null,
            "top": null,
            "visibility": null,
            "width": null
          }
        },
        "cad4099fff4f4666a73e210a6cc7f880": {
          "model_module": "@jupyter-widgets/base",
          "model_name": "LayoutModel",
          "model_module_version": "1.2.0",
          "state": {
            "_model_module": "@jupyter-widgets/base",
            "_model_module_version": "1.2.0",
            "_model_name": "LayoutModel",
            "_view_count": null,
            "_view_module": "@jupyter-widgets/base",
            "_view_module_version": "1.2.0",
            "_view_name": "LayoutView",
            "align_content": null,
            "align_items": null,
            "align_self": null,
            "border": null,
            "bottom": null,
            "display": null,
            "flex": null,
            "flex_flow": null,
            "grid_area": null,
            "grid_auto_columns": null,
            "grid_auto_flow": null,
            "grid_auto_rows": null,
            "grid_column": null,
            "grid_gap": null,
            "grid_row": null,
            "grid_template_areas": null,
            "grid_template_columns": null,
            "grid_template_rows": null,
            "height": null,
            "justify_content": null,
            "justify_items": null,
            "left": null,
            "margin": null,
            "max_height": null,
            "max_width": null,
            "min_height": null,
            "min_width": null,
            "object_fit": null,
            "object_position": null,
            "order": null,
            "overflow": null,
            "overflow_x": null,
            "overflow_y": null,
            "padding": null,
            "right": null,
            "top": null,
            "visibility": null,
            "width": null
          }
        },
        "e4d30ac170c945a594845b468fe2f09f": {
          "model_module": "@jupyter-widgets/controls",
          "model_name": "DescriptionStyleModel",
          "model_module_version": "1.5.0",
          "state": {
            "_model_module": "@jupyter-widgets/controls",
            "_model_module_version": "1.5.0",
            "_model_name": "DescriptionStyleModel",
            "_view_count": null,
            "_view_module": "@jupyter-widgets/base",
            "_view_module_version": "1.2.0",
            "_view_name": "StyleView",
            "description_width": ""
          }
        },
        "2d52be6e075c4407abe55cda655365f0": {
          "model_module": "@jupyter-widgets/base",
          "model_name": "LayoutModel",
          "model_module_version": "1.2.0",
          "state": {
            "_model_module": "@jupyter-widgets/base",
            "_model_module_version": "1.2.0",
            "_model_name": "LayoutModel",
            "_view_count": null,
            "_view_module": "@jupyter-widgets/base",
            "_view_module_version": "1.2.0",
            "_view_name": "LayoutView",
            "align_content": null,
            "align_items": null,
            "align_self": null,
            "border": null,
            "bottom": null,
            "display": null,
            "flex": null,
            "flex_flow": null,
            "grid_area": null,
            "grid_auto_columns": null,
            "grid_auto_flow": null,
            "grid_auto_rows": null,
            "grid_column": null,
            "grid_gap": null,
            "grid_row": null,
            "grid_template_areas": null,
            "grid_template_columns": null,
            "grid_template_rows": null,
            "height": null,
            "justify_content": null,
            "justify_items": null,
            "left": null,
            "margin": null,
            "max_height": null,
            "max_width": null,
            "min_height": null,
            "min_width": null,
            "object_fit": null,
            "object_position": null,
            "order": null,
            "overflow": null,
            "overflow_x": null,
            "overflow_y": null,
            "padding": null,
            "right": null,
            "top": null,
            "visibility": null,
            "width": null
          }
        },
        "5cc2476091d541a8b824f5e02b6f3d90": {
          "model_module": "@jupyter-widgets/controls",
          "model_name": "ProgressStyleModel",
          "model_module_version": "1.5.0",
          "state": {
            "_model_module": "@jupyter-widgets/controls",
            "_model_module_version": "1.5.0",
            "_model_name": "ProgressStyleModel",
            "_view_count": null,
            "_view_module": "@jupyter-widgets/base",
            "_view_module_version": "1.2.0",
            "_view_name": "StyleView",
            "bar_color": null,
            "description_width": ""
          }
        },
        "c549c82590164329942337fef1e20618": {
          "model_module": "@jupyter-widgets/base",
          "model_name": "LayoutModel",
          "model_module_version": "1.2.0",
          "state": {
            "_model_module": "@jupyter-widgets/base",
            "_model_module_version": "1.2.0",
            "_model_name": "LayoutModel",
            "_view_count": null,
            "_view_module": "@jupyter-widgets/base",
            "_view_module_version": "1.2.0",
            "_view_name": "LayoutView",
            "align_content": null,
            "align_items": null,
            "align_self": null,
            "border": null,
            "bottom": null,
            "display": null,
            "flex": null,
            "flex_flow": null,
            "grid_area": null,
            "grid_auto_columns": null,
            "grid_auto_flow": null,
            "grid_auto_rows": null,
            "grid_column": null,
            "grid_gap": null,
            "grid_row": null,
            "grid_template_areas": null,
            "grid_template_columns": null,
            "grid_template_rows": null,
            "height": null,
            "justify_content": null,
            "justify_items": null,
            "left": null,
            "margin": null,
            "max_height": null,
            "max_width": null,
            "min_height": null,
            "min_width": null,
            "object_fit": null,
            "object_position": null,
            "order": null,
            "overflow": null,
            "overflow_x": null,
            "overflow_y": null,
            "padding": null,
            "right": null,
            "top": null,
            "visibility": null,
            "width": null
          }
        },
        "7ffcef0560c2434bab0c29ad2caa2c3d": {
          "model_module": "@jupyter-widgets/controls",
          "model_name": "DescriptionStyleModel",
          "model_module_version": "1.5.0",
          "state": {
            "_model_module": "@jupyter-widgets/controls",
            "_model_module_version": "1.5.0",
            "_model_name": "DescriptionStyleModel",
            "_view_count": null,
            "_view_module": "@jupyter-widgets/base",
            "_view_module_version": "1.2.0",
            "_view_name": "StyleView",
            "description_width": ""
          }
        }
      }
    }
  },
  "cells": [
    {
      "cell_type": "markdown",
      "metadata": {
        "id": "view-in-github",
        "colab_type": "text"
      },
      "source": [
        "<a href=\"https://colab.research.google.com/github/sabin5105/CIFAR10/blob/main/basiccnn.ipynb\" target=\"_parent\"><img src=\"https://colab.research.google.com/assets/colab-badge.svg\" alt=\"Open In Colab\"/></a>"
      ]
    },
    {
      "cell_type": "code",
      "source": [
        "from baseline import *"
      ],
      "metadata": {
        "id": "J6CmKv-pJmBr",
        "outputId": "b51eaa3b-8094-41cf-fe8a-d1ebf207e6b0",
        "colab": {
          "base_uri": "https://localhost:8080/",
          "height": 103,
          "referenced_widgets": [
            "77839e1b41ca4391a58caed8e00cf6e3",
            "049683fdb296477183a55eb5e633763b",
            "3755965f0900433ea08a8cb3b1cb13f4",
            "03a21f50f97e4c2d9825d75186fd27ee",
            "6209d0af9f3141d5bb8910714e27dd89",
            "cad4099fff4f4666a73e210a6cc7f880",
            "e4d30ac170c945a594845b468fe2f09f",
            "2d52be6e075c4407abe55cda655365f0",
            "5cc2476091d541a8b824f5e02b6f3d90",
            "c549c82590164329942337fef1e20618",
            "7ffcef0560c2434bab0c29ad2caa2c3d"
          ]
        }
      },
      "execution_count": 2,
      "outputs": [
        {
          "output_type": "stream",
          "name": "stdout",
          "text": [
            "Downloading https://www.cs.toronto.edu/~kriz/cifar-10-python.tar.gz to ./data/cifar-10-python.tar.gz\n"
          ]
        },
        {
          "output_type": "display_data",
          "data": {
            "text/plain": [
              "  0%|          | 0/170498071 [00:00<?, ?it/s]"
            ],
            "application/vnd.jupyter.widget-view+json": {
              "version_major": 2,
              "version_minor": 0,
              "model_id": "77839e1b41ca4391a58caed8e00cf6e3"
            }
          },
          "metadata": {}
        },
        {
          "output_type": "stream",
          "name": "stdout",
          "text": [
            "Extracting ./data/cifar-10-python.tar.gz to ./data\n",
            "Files already downloaded and verified\n"
          ]
        }
      ]
    },
    {
      "cell_type": "code",
      "execution_count": 24,
      "metadata": {
        "id": "upGlEpMshgut"
      },
      "outputs": [],
      "source": [
        "import tensorflow as tf\n",
        "\n",
        "from tensorflow.keras import datasets, layers, models"
      ]
    },
    {
      "cell_type": "code",
      "source": [
        "(train_datas, train_labels), (test_datas, test_labels) = datasets.cifar10.load_data()\n",
        "\n",
        "train_datas, test_datas = train_datas / 255, test_datas / 255"
      ],
      "metadata": {
        "id": "hkxZtSsxhmNn",
        "colab": {
          "base_uri": "https://localhost:8080/"
        },
        "outputId": "94a9e56a-9619-4336-d82c-697bd78f7bb7"
      },
      "execution_count": 25,
      "outputs": [
        {
          "output_type": "stream",
          "name": "stdout",
          "text": [
            "Downloading data from https://www.cs.toronto.edu/~kriz/cifar-10-python.tar.gz\n",
            "170498071/170498071 [==============================] - 2s 0us/step\n"
          ]
        }
      ]
    },
    {
      "cell_type": "code",
      "source": [
        "model = models.Sequential([\n",
        "    layers.Conv2D(32, (3, 3), activation='relu', input_shape=(32, 32, 3)),\n",
        "    layers.MaxPooling2D((2, 2)),\n",
        "    layers.Conv2D(64, (3, 3), activation='relu'),\n",
        "    layers.MaxPooling2D((2, 2)),\n",
        "    layers.Conv2D(64, (3, 3), activation='relu')\n",
        "])"
      ],
      "metadata": {
        "id": "IMdR2AsxhnKd"
      },
      "execution_count": 26,
      "outputs": []
    },
    {
      "cell_type": "code",
      "source": [
        "model.summary()"
      ],
      "metadata": {
        "colab": {
          "base_uri": "https://localhost:8080/"
        },
        "id": "qMdkVDtRhojt",
        "outputId": "17926199-6cd7-4ace-b261-09538b81dd6f"
      },
      "execution_count": 27,
      "outputs": [
        {
          "output_type": "stream",
          "name": "stdout",
          "text": [
            "Model: \"sequential_1\"\n",
            "_________________________________________________________________\n",
            " Layer (type)                Output Shape              Param #   \n",
            "=================================================================\n",
            " conv2d_3 (Conv2D)           (None, 30, 30, 32)        896       \n",
            "                                                                 \n",
            " max_pooling2d_2 (MaxPooling  (None, 15, 15, 32)       0         \n",
            " 2D)                                                             \n",
            "                                                                 \n",
            " conv2d_4 (Conv2D)           (None, 13, 13, 64)        18496     \n",
            "                                                                 \n",
            " max_pooling2d_3 (MaxPooling  (None, 6, 6, 64)         0         \n",
            " 2D)                                                             \n",
            "                                                                 \n",
            " conv2d_5 (Conv2D)           (None, 4, 4, 64)          36928     \n",
            "                                                                 \n",
            "=================================================================\n",
            "Total params: 56,320\n",
            "Trainable params: 56,320\n",
            "Non-trainable params: 0\n",
            "_________________________________________________________________\n"
          ]
        }
      ]
    },
    {
      "cell_type": "code",
      "source": [
        "model.add(layers.Flatten())\n",
        "model.add(layers.Dense(64, activation='relu'))\n",
        "model.add(layers.Dense(10))"
      ],
      "metadata": {
        "id": "AcEi2YtzhrRV"
      },
      "execution_count": 28,
      "outputs": []
    },
    {
      "cell_type": "code",
      "source": [
        "from tensorflow.keras import losses, optimizers\n",
        "\n",
        "model.compile(\n",
        "    loss=losses.SparseCategoricalCrossentropy(from_logits=True),\n",
        "    optimizer=optimizers.Adam(),\n",
        "    metrics=[\"accuracy\"],\n",
        ")\n",
        "\n",
        "model.fit(\n",
        "    train_datas, train_labels,\n",
        "    validation_data=(test_datas, test_labels),\n",
        "    batch_size=4,\n",
        "    epochs=10\n",
        ")"
      ],
      "metadata": {
        "colab": {
          "base_uri": "https://localhost:8080/"
        },
        "id": "dbCwLGzKh9_S",
        "outputId": "690f195d-d594-4f3f-e41e-a382005bd9f8"
      },
      "execution_count": 29,
      "outputs": [
        {
          "output_type": "stream",
          "name": "stdout",
          "text": [
            "Epoch 1/10\n",
            "12500/12500 [==============================] - 202s 16ms/step - loss: 1.4693 - accuracy: 0.4631 - val_loss: 1.2093 - val_accuracy: 0.5672\n",
            "Epoch 2/10\n",
            "12500/12500 [==============================] - 173s 14ms/step - loss: 1.1538 - accuracy: 0.5920 - val_loss: 1.1028 - val_accuracy: 0.6115\n",
            "Epoch 3/10\n",
            "12500/12500 [==============================] - 174s 14ms/step - loss: 1.0300 - accuracy: 0.6382 - val_loss: 1.1034 - val_accuracy: 0.6129\n",
            "Epoch 4/10\n",
            "12500/12500 [==============================] - 163s 13ms/step - loss: 0.9403 - accuracy: 0.6716 - val_loss: 1.0165 - val_accuracy: 0.6495\n",
            "Epoch 5/10\n",
            "12500/12500 [==============================] - 159s 13ms/step - loss: 0.8790 - accuracy: 0.6927 - val_loss: 1.0310 - val_accuracy: 0.6498\n",
            "Epoch 6/10\n",
            "12500/12500 [==============================] - 161s 13ms/step - loss: 0.8302 - accuracy: 0.7097 - val_loss: 0.9672 - val_accuracy: 0.6701\n",
            "Epoch 7/10\n",
            "12500/12500 [==============================] - 171s 14ms/step - loss: 0.7813 - accuracy: 0.7283 - val_loss: 0.9674 - val_accuracy: 0.6757\n",
            "Epoch 8/10\n",
            "12500/12500 [==============================] - 174s 14ms/step - loss: 0.7452 - accuracy: 0.7411 - val_loss: 0.9834 - val_accuracy: 0.6696\n",
            "Epoch 9/10\n",
            "12500/12500 [==============================] - 177s 14ms/step - loss: 0.7166 - accuracy: 0.7494 - val_loss: 1.0106 - val_accuracy: 0.6715\n",
            "Epoch 10/10\n",
            "12500/12500 [==============================] - 176s 14ms/step - loss: 0.6894 - accuracy: 0.7600 - val_loss: 1.0643 - val_accuracy: 0.6642\n"
          ]
        },
        {
          "output_type": "execute_result",
          "data": {
            "text/plain": [
              "<keras.callbacks.History at 0x7f9a5de0b390>"
            ]
          },
          "metadata": {},
          "execution_count": 29
        }
      ]
    },
    {
      "cell_type": "code",
      "source": [
        "pred = model.predict(test_datas)"
      ],
      "metadata": {
        "colab": {
          "base_uri": "https://localhost:8080/"
        },
        "id": "pDU3T8RStaX1",
        "outputId": "57a4c75a-e00e-493a-a8c8-0e50dcbfb21c"
      },
      "execution_count": 30,
      "outputs": [
        {
          "output_type": "stream",
          "name": "stdout",
          "text": [
            "313/313 [==============================] - 7s 22ms/step\n"
          ]
        }
      ]
    },
    {
      "cell_type": "code",
      "source": [
        "# accuracy\n",
        "from sklearn.metrics import *\n",
        "import numpy as np\n",
        "\n",
        "pred = np.argmax(pred, axis = 1)\n",
        "print(\"Accuracy: \", accuracy_score(test_labels, pred))\n",
        "print(\"F1 Score: \", f1_score(test_labels, pred, average='macro'))\n",
        "print(\"Recall: \", recall_score(test_labels, pred, average='macro'))\n",
        "print(\"Precision: \", precision_score(test_labels, pred, average='macro'))\n",
        "print(\"-\"*70)"
      ],
      "metadata": {
        "colab": {
          "base_uri": "https://localhost:8080/"
        },
        "id": "shpl6MeokiNN",
        "outputId": "ccce196e-63dd-4a2f-a487-aa9e357eac81"
      },
      "execution_count": 31,
      "outputs": [
        {
          "output_type": "stream",
          "name": "stdout",
          "text": [
            "Accuracy:  0.6642\n",
            "F1 Score:  0.6592797412008438\n",
            "Recall:  0.6642\n",
            "Precision:  0.670068399915653\n",
            "----------------------------------------------------------------------\n"
          ]
        }
      ]
    },
    {
      "cell_type": "code",
      "source": [
        "# visualize confusion matrix\n",
        "import matplotlib.pyplot as plt\n",
        "import seaborn as sns\n",
        "\n",
        "cm = confusion_matrix(test_labels, pred)\n",
        "plt.figure(figsize=(10, 10))\n",
        "sns.heatmap(cm, annot=True, fmt=\"d\", cmap='Greys')\n",
        "plt.title(\"Confusion matrix\")\n",
        "plt.ylabel('True label')\n",
        "plt.xlabel('Predicted label')\n",
        "plt.show()"
      ],
      "metadata": {
        "colab": {
          "base_uri": "https://localhost:8080/",
          "height": 621
        },
        "id": "QdXwGhOzt2Ps",
        "outputId": "c2b728a8-c65b-4ba5-c0be-9765fdef2087"
      },
      "execution_count": 33,
      "outputs": [
        {
          "output_type": "display_data",
          "data": {
            "text/plain": [
              "<Figure size 720x720 with 2 Axes>"
            ],
            "image/png": "[encoded data removed]"
          },
          "metadata": {
            "needs_background": "light"
          }
        }
      ]
    },
    {
      "cell_type": "code",
      "source": [
        "from sklearn.metrics import classification_report\n",
        "print(\"Classification Report: \", classification_report(test_labels, pred))"
      ],
      "metadata": {
        "colab": {
          "base_uri": "https://localhost:8080/"
        },
        "id": "Xm7W8yIXjnGf",
        "outputId": "e2449db1-645c-4de0-9c33-3ea2871ffa0e"
      },
      "execution_count": 34,
      "outputs": [
        {
          "output_type": "stream",
          "name": "stdout",
          "text": [
            "Classification Report:                precision    recall  f1-score   support\n",
            "\n",
            "           0       0.64      0.75      0.69      1000\n",
            "           1       0.79      0.81      0.80      1000\n",
            "           2       0.66      0.43      0.52      1000\n",
            "           3       0.54      0.42      0.47      1000\n",
            "           4       0.57      0.65      0.60      1000\n",
            "           5       0.59      0.61      0.60      1000\n",
            "           6       0.70      0.78      0.74      1000\n",
            "           7       0.62      0.80      0.70      1000\n",
            "           8       0.88      0.61      0.72      1000\n",
            "           9       0.71      0.80      0.75      1000\n",
            "\n",
            "    accuracy                           0.66     10000\n",
            "   macro avg       0.67      0.66      0.66     10000\n",
            "weighted avg       0.67      0.66      0.66     10000\n",
            "\n"
          ]
        }
      ]
    }
  ]
}